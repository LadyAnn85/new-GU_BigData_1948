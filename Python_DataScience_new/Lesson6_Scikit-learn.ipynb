{
 "cells": [
  {
   "cell_type": "markdown",
   "id": "edb64e60",
   "metadata": {},
   "source": [
    "Библиотеки Python для Data Science: Numpy, Matplotlib, Scikit-learn. Обучение с учителем в Scikit-learn"
   ]
  },
  {
   "cell_type": "markdown",
   "id": "c43ca7ec",
   "metadata": {},
   "source": [
    "# Задание 1"
   ]
  },
  {
   "cell_type": "markdown",
   "id": "d40a1df1",
   "metadata": {},
   "source": [
    "Импортируйте библиотеки pandas и numpy.\n",
    "Загрузите \"Boston House Prices dataset\" из встроенных наборов данных библиотеки sklearn. Создайте датафреймы X и y из этих данных.\n",
    "Разбейте эти датафреймы на тренировочные (X_train, y_train) и тестовые (X_test, y_test) с помощью функции train_test_split так, чтобы размер тестовой выборки\n",
    "составлял 30% от всех данных, при этом аргумент random_state должен быть равен 42.\n",
    "Создайте модель линейной регрессии под названием lr с помощью класса LinearRegression из модуля sklearn.linear_model.\n",
    "Обучите модель на тренировочных данных (используйте все признаки) и сделайте предсказание на тестовых.\n",
    "Вычислите R2 полученных предказаний с помощью r2_score из модуля sklearn.metrics."
   ]
  },
  {
   "cell_type": "markdown",
   "id": "e42b0b0f",
   "metadata": {},
   "source": [
    "Выборка данных"
   ]
  },
  {
   "cell_type": "code",
   "execution_count": 169,
   "id": "712fc6b2",
   "metadata": {},
   "outputs": [],
   "source": [
    "import numpy as np\n",
    "import pandas as pd\n",
    "\n",
    "from sklearn.datasets import load_boston"
   ]
  },
  {
   "cell_type": "code",
   "execution_count": 170,
   "id": "9946b65c",
   "metadata": {
    "scrolled": false
   },
   "outputs": [
    {
     "data": {
      "text/plain": [
       "dict_keys(['data', 'target', 'feature_names', 'DESCR', 'filename', 'data_module'])"
      ]
     },
     "execution_count": 170,
     "metadata": {},
     "output_type": "execute_result"
    }
   ],
   "source": [
    "boston = load_boston()\n",
    "boston.keys()"
   ]
  },
  {
   "cell_type": "code",
   "execution_count": 171,
   "id": "1000eb73",
   "metadata": {},
   "outputs": [
    {
     "name": "stdout",
     "output_type": "stream",
     "text": [
      "[[6.3200e-03 1.8000e+01 2.3100e+00 ... 1.5300e+01 3.9690e+02 4.9800e+00]\n",
      " [2.7310e-02 0.0000e+00 7.0700e+00 ... 1.7800e+01 3.9690e+02 9.1400e+00]\n",
      " [2.7290e-02 0.0000e+00 7.0700e+00 ... 1.7800e+01 3.9283e+02 4.0300e+00]\n",
      " ...\n",
      " [6.0760e-02 0.0000e+00 1.1930e+01 ... 2.1000e+01 3.9690e+02 5.6400e+00]\n",
      " [1.0959e-01 0.0000e+00 1.1930e+01 ... 2.1000e+01 3.9345e+02 6.4800e+00]\n",
      " [4.7410e-02 0.0000e+00 1.1930e+01 ... 2.1000e+01 3.9690e+02 7.8800e+00]]\n"
     ]
    }
   ],
   "source": [
    "print(boston[\"data\"])"
   ]
  },
  {
   "cell_type": "code",
   "execution_count": 172,
   "id": "b5e6b917",
   "metadata": {},
   "outputs": [
    {
     "name": "stdout",
     "output_type": "stream",
     "text": [
      "[24.  21.6 34.7 33.4 36.2 28.7 22.9 27.1 16.5 18.9 15.  18.9 21.7 20.4\n",
      " 18.2 19.9 23.1 17.5 20.2 18.2 13.6 19.6 15.2 14.5 15.6 13.9 16.6 14.8\n",
      " 18.4 21.  12.7 14.5 13.2 13.1 13.5 18.9 20.  21.  24.7 30.8 34.9 26.6\n",
      " 25.3 24.7 21.2 19.3 20.  16.6 14.4 19.4 19.7 20.5 25.  23.4 18.9 35.4\n",
      " 24.7 31.6 23.3 19.6 18.7 16.  22.2 25.  33.  23.5 19.4 22.  17.4 20.9\n",
      " 24.2 21.7 22.8 23.4 24.1 21.4 20.  20.8 21.2 20.3 28.  23.9 24.8 22.9\n",
      " 23.9 26.6 22.5 22.2 23.6 28.7 22.6 22.  22.9 25.  20.6 28.4 21.4 38.7\n",
      " 43.8 33.2 27.5 26.5 18.6 19.3 20.1 19.5 19.5 20.4 19.8 19.4 21.7 22.8\n",
      " 18.8 18.7 18.5 18.3 21.2 19.2 20.4 19.3 22.  20.3 20.5 17.3 18.8 21.4\n",
      " 15.7 16.2 18.  14.3 19.2 19.6 23.  18.4 15.6 18.1 17.4 17.1 13.3 17.8\n",
      " 14.  14.4 13.4 15.6 11.8 13.8 15.6 14.6 17.8 15.4 21.5 19.6 15.3 19.4\n",
      " 17.  15.6 13.1 41.3 24.3 23.3 27.  50.  50.  50.  22.7 25.  50.  23.8\n",
      " 23.8 22.3 17.4 19.1 23.1 23.6 22.6 29.4 23.2 24.6 29.9 37.2 39.8 36.2\n",
      " 37.9 32.5 26.4 29.6 50.  32.  29.8 34.9 37.  30.5 36.4 31.1 29.1 50.\n",
      " 33.3 30.3 34.6 34.9 32.9 24.1 42.3 48.5 50.  22.6 24.4 22.5 24.4 20.\n",
      " 21.7 19.3 22.4 28.1 23.7 25.  23.3 28.7 21.5 23.  26.7 21.7 27.5 30.1\n",
      " 44.8 50.  37.6 31.6 46.7 31.5 24.3 31.7 41.7 48.3 29.  24.  25.1 31.5\n",
      " 23.7 23.3 22.  20.1 22.2 23.7 17.6 18.5 24.3 20.5 24.5 26.2 24.4 24.8\n",
      " 29.6 42.8 21.9 20.9 44.  50.  36.  30.1 33.8 43.1 48.8 31.  36.5 22.8\n",
      " 30.7 50.  43.5 20.7 21.1 25.2 24.4 35.2 32.4 32.  33.2 33.1 29.1 35.1\n",
      " 45.4 35.4 46.  50.  32.2 22.  20.1 23.2 22.3 24.8 28.5 37.3 27.9 23.9\n",
      " 21.7 28.6 27.1 20.3 22.5 29.  24.8 22.  26.4 33.1 36.1 28.4 33.4 28.2\n",
      " 22.8 20.3 16.1 22.1 19.4 21.6 23.8 16.2 17.8 19.8 23.1 21.  23.8 23.1\n",
      " 20.4 18.5 25.  24.6 23.  22.2 19.3 22.6 19.8 17.1 19.4 22.2 20.7 21.1\n",
      " 19.5 18.5 20.6 19.  18.7 32.7 16.5 23.9 31.2 17.5 17.2 23.1 24.5 26.6\n",
      " 22.9 24.1 18.6 30.1 18.2 20.6 17.8 21.7 22.7 22.6 25.  19.9 20.8 16.8\n",
      " 21.9 27.5 21.9 23.1 50.  50.  50.  50.  50.  13.8 13.8 15.  13.9 13.3\n",
      " 13.1 10.2 10.4 10.9 11.3 12.3  8.8  7.2 10.5  7.4 10.2 11.5 15.1 23.2\n",
      "  9.7 13.8 12.7 13.1 12.5  8.5  5.   6.3  5.6  7.2 12.1  8.3  8.5  5.\n",
      " 11.9 27.9 17.2 27.5 15.  17.2 17.9 16.3  7.   7.2  7.5 10.4  8.8  8.4\n",
      " 16.7 14.2 20.8 13.4 11.7  8.3 10.2 10.9 11.   9.5 14.5 14.1 16.1 14.3\n",
      " 11.7 13.4  9.6  8.7  8.4 12.8 10.5 17.1 18.4 15.4 10.8 11.8 14.9 12.6\n",
      " 14.1 13.  13.4 15.2 16.1 17.8 14.9 14.1 12.7 13.5 14.9 20.  16.4 17.7\n",
      " 19.5 20.2 21.4 19.9 19.  19.1 19.1 20.1 19.9 19.6 23.2 29.8 13.8 13.3\n",
      " 16.7 12.  14.6 21.4 23.  23.7 25.  21.8 20.6 21.2 19.1 20.6 15.2  7.\n",
      "  8.1 13.6 20.1 21.8 24.5 23.1 19.7 18.3 21.2 17.5 16.8 22.4 20.6 23.9\n",
      " 22.  11.9]\n"
     ]
    }
   ],
   "source": [
    "print(boston[\"target\"])"
   ]
  },
  {
   "cell_type": "code",
   "execution_count": 173,
   "id": "08f042e0",
   "metadata": {},
   "outputs": [
    {
     "name": "stdout",
     "output_type": "stream",
     "text": [
      "['CRIM' 'ZN' 'INDUS' 'CHAS' 'NOX' 'RM' 'AGE' 'DIS' 'RAD' 'TAX' 'PTRATIO'\n",
      " 'B' 'LSTAT']\n"
     ]
    }
   ],
   "source": [
    "print(boston[\"feature_names\"])"
   ]
  },
  {
   "cell_type": "code",
   "execution_count": 174,
   "id": "9c99446a",
   "metadata": {},
   "outputs": [
    {
     "name": "stdout",
     "output_type": "stream",
     "text": [
      ".. _boston_dataset:\n",
      "\n",
      "Boston house prices dataset\n",
      "---------------------------\n",
      "\n",
      "**Data Set Characteristics:**  \n",
      "\n",
      "    :Number of Instances: 506 \n",
      "\n",
      "    :Number of Attributes: 13 numeric/categorical predictive. Median Value (attribute 14) is usually the target.\n",
      "\n",
      "    :Attribute Information (in order):\n",
      "        - CRIM     per capita crime rate by town\n",
      "        - ZN       proportion of residential land zoned for lots over 25,000 sq.ft.\n",
      "        - INDUS    proportion of non-retail business acres per town\n",
      "        - CHAS     Charles River dummy variable (= 1 if tract bounds river; 0 otherwise)\n",
      "        - NOX      nitric oxides concentration (parts per 10 million)\n",
      "        - RM       average number of rooms per dwelling\n",
      "        - AGE      proportion of owner-occupied units built prior to 1940\n",
      "        - DIS      weighted distances to five Boston employment centres\n",
      "        - RAD      index of accessibility to radial highways\n",
      "        - TAX      full-value property-tax rate per $10,000\n",
      "        - PTRATIO  pupil-teacher ratio by town\n",
      "        - B        1000(Bk - 0.63)^2 where Bk is the proportion of black people by town\n",
      "        - LSTAT    % lower status of the population\n",
      "        - MEDV     Median value of owner-occupied homes in $1000's\n",
      "\n",
      "    :Missing Attribute Values: None\n",
      "\n",
      "    :Creator: Harrison, D. and Rubinfeld, D.L.\n",
      "\n",
      "This is a copy of UCI ML housing dataset.\n",
      "https://archive.ics.uci.edu/ml/machine-learning-databases/housing/\n",
      "\n",
      "\n",
      "This dataset was taken from the StatLib library which is maintained at Carnegie Mellon University.\n",
      "\n",
      "The Boston house-price data of Harrison, D. and Rubinfeld, D.L. 'Hedonic\n",
      "prices and the demand for clean air', J. Environ. Economics & Management,\n",
      "vol.5, 81-102, 1978.   Used in Belsley, Kuh & Welsch, 'Regression diagnostics\n",
      "...', Wiley, 1980.   N.B. Various transformations are used in the table on\n",
      "pages 244-261 of the latter.\n",
      "\n",
      "The Boston house-price data has been used in many machine learning papers that address regression\n",
      "problems.   \n",
      "     \n",
      ".. topic:: References\n",
      "\n",
      "   - Belsley, Kuh & Welsch, 'Regression diagnostics: Identifying Influential Data and Sources of Collinearity', Wiley, 1980. 244-261.\n",
      "   - Quinlan,R. (1993). Combining Instance-Based and Model-Based Learning. In Proceedings on the Tenth International Conference of Machine Learning, 236-243, University of Massachusetts, Amherst. Morgan Kaufmann.\n",
      "\n"
     ]
    }
   ],
   "source": [
    "print(boston[\"DESCR\"])"
   ]
  },
  {
   "cell_type": "code",
   "execution_count": 175,
   "id": "ec3d166d",
   "metadata": {},
   "outputs": [
    {
     "name": "stdout",
     "output_type": "stream",
     "text": [
      "boston_house_prices.csv\n"
     ]
    }
   ],
   "source": [
    "print(boston[\"filename\"])"
   ]
  },
  {
   "cell_type": "code",
   "execution_count": 176,
   "id": "85870c60",
   "metadata": {},
   "outputs": [],
   "source": [
    "data = boston[\"data\"]"
   ]
  },
  {
   "cell_type": "code",
   "execution_count": 177,
   "id": "291c7db1",
   "metadata": {},
   "outputs": [],
   "source": [
    "target = boston[\"target\"]"
   ]
  },
  {
   "cell_type": "code",
   "execution_count": 178,
   "id": "22d99395",
   "metadata": {
    "scrolled": true
   },
   "outputs": [],
   "source": [
    "feature_names = boston[\"feature_names\"]"
   ]
  },
  {
   "cell_type": "code",
   "execution_count": 179,
   "id": "0be0d780",
   "metadata": {
    "scrolled": true
   },
   "outputs": [
    {
     "data": {
      "text/html": [
       "<div>\n",
       "<style scoped>\n",
       "    .dataframe tbody tr th:only-of-type {\n",
       "        vertical-align: middle;\n",
       "    }\n",
       "\n",
       "    .dataframe tbody tr th {\n",
       "        vertical-align: top;\n",
       "    }\n",
       "\n",
       "    .dataframe thead th {\n",
       "        text-align: right;\n",
       "    }\n",
       "</style>\n",
       "<table border=\"1\" class=\"dataframe\">\n",
       "  <thead>\n",
       "    <tr style=\"text-align: right;\">\n",
       "      <th></th>\n",
       "      <th>CRIM</th>\n",
       "      <th>ZN</th>\n",
       "      <th>INDUS</th>\n",
       "      <th>CHAS</th>\n",
       "      <th>NOX</th>\n",
       "      <th>RM</th>\n",
       "      <th>AGE</th>\n",
       "      <th>DIS</th>\n",
       "      <th>RAD</th>\n",
       "      <th>TAX</th>\n",
       "      <th>PTRATIO</th>\n",
       "      <th>B</th>\n",
       "      <th>LSTAT</th>\n",
       "    </tr>\n",
       "  </thead>\n",
       "  <tbody>\n",
       "    <tr>\n",
       "      <th>0</th>\n",
       "      <td>0.00632</td>\n",
       "      <td>18.0</td>\n",
       "      <td>2.31</td>\n",
       "      <td>0.0</td>\n",
       "      <td>0.538</td>\n",
       "      <td>6.575</td>\n",
       "      <td>65.2</td>\n",
       "      <td>4.0900</td>\n",
       "      <td>1.0</td>\n",
       "      <td>296.0</td>\n",
       "      <td>15.3</td>\n",
       "      <td>396.90</td>\n",
       "      <td>4.98</td>\n",
       "    </tr>\n",
       "    <tr>\n",
       "      <th>1</th>\n",
       "      <td>0.02731</td>\n",
       "      <td>0.0</td>\n",
       "      <td>7.07</td>\n",
       "      <td>0.0</td>\n",
       "      <td>0.469</td>\n",
       "      <td>6.421</td>\n",
       "      <td>78.9</td>\n",
       "      <td>4.9671</td>\n",
       "      <td>2.0</td>\n",
       "      <td>242.0</td>\n",
       "      <td>17.8</td>\n",
       "      <td>396.90</td>\n",
       "      <td>9.14</td>\n",
       "    </tr>\n",
       "    <tr>\n",
       "      <th>2</th>\n",
       "      <td>0.02729</td>\n",
       "      <td>0.0</td>\n",
       "      <td>7.07</td>\n",
       "      <td>0.0</td>\n",
       "      <td>0.469</td>\n",
       "      <td>7.185</td>\n",
       "      <td>61.1</td>\n",
       "      <td>4.9671</td>\n",
       "      <td>2.0</td>\n",
       "      <td>242.0</td>\n",
       "      <td>17.8</td>\n",
       "      <td>392.83</td>\n",
       "      <td>4.03</td>\n",
       "    </tr>\n",
       "    <tr>\n",
       "      <th>3</th>\n",
       "      <td>0.03237</td>\n",
       "      <td>0.0</td>\n",
       "      <td>2.18</td>\n",
       "      <td>0.0</td>\n",
       "      <td>0.458</td>\n",
       "      <td>6.998</td>\n",
       "      <td>45.8</td>\n",
       "      <td>6.0622</td>\n",
       "      <td>3.0</td>\n",
       "      <td>222.0</td>\n",
       "      <td>18.7</td>\n",
       "      <td>394.63</td>\n",
       "      <td>2.94</td>\n",
       "    </tr>\n",
       "    <tr>\n",
       "      <th>4</th>\n",
       "      <td>0.06905</td>\n",
       "      <td>0.0</td>\n",
       "      <td>2.18</td>\n",
       "      <td>0.0</td>\n",
       "      <td>0.458</td>\n",
       "      <td>7.147</td>\n",
       "      <td>54.2</td>\n",
       "      <td>6.0622</td>\n",
       "      <td>3.0</td>\n",
       "      <td>222.0</td>\n",
       "      <td>18.7</td>\n",
       "      <td>396.90</td>\n",
       "      <td>5.33</td>\n",
       "    </tr>\n",
       "  </tbody>\n",
       "</table>\n",
       "</div>"
      ],
      "text/plain": [
       "      CRIM    ZN  INDUS  CHAS    NOX     RM   AGE     DIS  RAD    TAX  \\\n",
       "0  0.00632  18.0   2.31   0.0  0.538  6.575  65.2  4.0900  1.0  296.0   \n",
       "1  0.02731   0.0   7.07   0.0  0.469  6.421  78.9  4.9671  2.0  242.0   \n",
       "2  0.02729   0.0   7.07   0.0  0.469  7.185  61.1  4.9671  2.0  242.0   \n",
       "3  0.03237   0.0   2.18   0.0  0.458  6.998  45.8  6.0622  3.0  222.0   \n",
       "4  0.06905   0.0   2.18   0.0  0.458  7.147  54.2  6.0622  3.0  222.0   \n",
       "\n",
       "   PTRATIO       B  LSTAT  \n",
       "0     15.3  396.90   4.98  \n",
       "1     17.8  396.90   9.14  \n",
       "2     17.8  392.83   4.03  \n",
       "3     18.7  394.63   2.94  \n",
       "4     18.7  396.90   5.33  "
      ]
     },
     "execution_count": 179,
     "metadata": {},
     "output_type": "execute_result"
    }
   ],
   "source": [
    "X = pd.DataFrame(data, columns=feature_names)\n",
    "X.head()"
   ]
  },
  {
   "cell_type": "code",
   "execution_count": 180,
   "id": "213aad07",
   "metadata": {},
   "outputs": [
    {
     "name": "stdout",
     "output_type": "stream",
     "text": [
      "<class 'pandas.core.frame.DataFrame'>\n",
      "RangeIndex: 506 entries, 0 to 505\n",
      "Data columns (total 13 columns):\n",
      " #   Column   Non-Null Count  Dtype  \n",
      "---  ------   --------------  -----  \n",
      " 0   CRIM     506 non-null    float64\n",
      " 1   ZN       506 non-null    float64\n",
      " 2   INDUS    506 non-null    float64\n",
      " 3   CHAS     506 non-null    float64\n",
      " 4   NOX      506 non-null    float64\n",
      " 5   RM       506 non-null    float64\n",
      " 6   AGE      506 non-null    float64\n",
      " 7   DIS      506 non-null    float64\n",
      " 8   RAD      506 non-null    float64\n",
      " 9   TAX      506 non-null    float64\n",
      " 10  PTRATIO  506 non-null    float64\n",
      " 11  B        506 non-null    float64\n",
      " 12  LSTAT    506 non-null    float64\n",
      "dtypes: float64(13)\n",
      "memory usage: 51.5 KB\n"
     ]
    }
   ],
   "source": [
    "X.info()"
   ]
  },
  {
   "cell_type": "code",
   "execution_count": 181,
   "id": "7fa32a9c",
   "metadata": {},
   "outputs": [
    {
     "data": {
      "text/plain": [
       "(506, 13)"
      ]
     },
     "execution_count": 181,
     "metadata": {},
     "output_type": "execute_result"
    }
   ],
   "source": [
    "X.shape"
   ]
  },
  {
   "cell_type": "code",
   "execution_count": 182,
   "id": "629d7b45",
   "metadata": {},
   "outputs": [
    {
     "data": {
      "text/html": [
       "<div>\n",
       "<style scoped>\n",
       "    .dataframe tbody tr th:only-of-type {\n",
       "        vertical-align: middle;\n",
       "    }\n",
       "\n",
       "    .dataframe tbody tr th {\n",
       "        vertical-align: top;\n",
       "    }\n",
       "\n",
       "    .dataframe thead th {\n",
       "        text-align: right;\n",
       "    }\n",
       "</style>\n",
       "<table border=\"1\" class=\"dataframe\">\n",
       "  <thead>\n",
       "    <tr style=\"text-align: right;\">\n",
       "      <th></th>\n",
       "      <th>price</th>\n",
       "    </tr>\n",
       "  </thead>\n",
       "  <tbody>\n",
       "    <tr>\n",
       "      <th>0</th>\n",
       "      <td>24.0</td>\n",
       "    </tr>\n",
       "    <tr>\n",
       "      <th>1</th>\n",
       "      <td>21.6</td>\n",
       "    </tr>\n",
       "    <tr>\n",
       "      <th>2</th>\n",
       "      <td>34.7</td>\n",
       "    </tr>\n",
       "    <tr>\n",
       "      <th>3</th>\n",
       "      <td>33.4</td>\n",
       "    </tr>\n",
       "    <tr>\n",
       "      <th>4</th>\n",
       "      <td>36.2</td>\n",
       "    </tr>\n",
       "  </tbody>\n",
       "</table>\n",
       "</div>"
      ],
      "text/plain": [
       "   price\n",
       "0   24.0\n",
       "1   21.6\n",
       "2   34.7\n",
       "3   33.4\n",
       "4   36.2"
      ]
     },
     "execution_count": 182,
     "metadata": {},
     "output_type": "execute_result"
    }
   ],
   "source": [
    "y = pd.DataFrame(target, columns=['price'])\n",
    "y.head()"
   ]
  },
  {
   "cell_type": "code",
   "execution_count": 183,
   "id": "939f7d68",
   "metadata": {
    "scrolled": true
   },
   "outputs": [
    {
     "name": "stdout",
     "output_type": "stream",
     "text": [
      "<class 'pandas.core.frame.DataFrame'>\n",
      "RangeIndex: 506 entries, 0 to 505\n",
      "Data columns (total 1 columns):\n",
      " #   Column  Non-Null Count  Dtype  \n",
      "---  ------  --------------  -----  \n",
      " 0   price   506 non-null    float64\n",
      "dtypes: float64(1)\n",
      "memory usage: 4.1 KB\n"
     ]
    }
   ],
   "source": [
    "y.info()"
   ]
  },
  {
   "cell_type": "markdown",
   "id": "909a2a55",
   "metadata": {},
   "source": [
    "Разбивка датафреймов на тренировочные тестовые выборки x,y"
   ]
  },
  {
   "cell_type": "code",
   "execution_count": 185,
   "id": "aded049b",
   "metadata": {},
   "outputs": [],
   "source": [
    "from sklearn.model_selection import train_test_split"
   ]
  },
  {
   "cell_type": "code",
   "execution_count": 186,
   "id": "10451548",
   "metadata": {},
   "outputs": [],
   "source": [
    "X_train, X_test, y_train, y_test = train_test_split(X, y, test_size=0.30)"
   ]
  },
  {
   "cell_type": "markdown",
   "id": "86365020",
   "metadata": {},
   "source": [
    "Построение модели"
   ]
  },
  {
   "cell_type": "code",
   "execution_count": 187,
   "id": "81eb43c9",
   "metadata": {},
   "outputs": [],
   "source": [
    "from sklearn.linear_model import LinearRegression"
   ]
  },
  {
   "cell_type": "code",
   "execution_count": 188,
   "id": "4b1d6615",
   "metadata": {},
   "outputs": [],
   "source": [
    "lr = LinearRegression()"
   ]
  },
  {
   "cell_type": "markdown",
   "id": "3730dfd2",
   "metadata": {},
   "source": [
    "Обучение модели"
   ]
  },
  {
   "cell_type": "code",
   "execution_count": 189,
   "id": "43cebfdf",
   "metadata": {},
   "outputs": [
    {
     "data": {
      "text/plain": [
       "LinearRegression()"
      ]
     },
     "execution_count": 189,
     "metadata": {},
     "output_type": "execute_result"
    }
   ],
   "source": [
    "lr.fit(X_train, y_train)"
   ]
  },
  {
   "cell_type": "code",
   "execution_count": 190,
   "id": "6b2b5b7d",
   "metadata": {},
   "outputs": [
    {
     "data": {
      "text/plain": [
       "LinearRegression(normalize=False)"
      ]
     },
     "execution_count": 190,
     "metadata": {},
     "output_type": "execute_result"
    }
   ],
   "source": [
    "LinearRegression(copy_X=True, fit_intercept=True, n_jobs=None,\n",
    "         normalize=False)"
   ]
  },
  {
   "cell_type": "code",
   "execution_count": 191,
   "id": "ed43f6ad",
   "metadata": {},
   "outputs": [],
   "source": [
    "y_pred = lr.predict(X_test)"
   ]
  },
  {
   "cell_type": "code",
   "execution_count": 192,
   "id": "1225c6ce",
   "metadata": {},
   "outputs": [
    {
     "data": {
      "text/plain": [
       "(152, 1)"
      ]
     },
     "execution_count": 192,
     "metadata": {},
     "output_type": "execute_result"
    }
   ],
   "source": [
    "y_pred.shape"
   ]
  },
  {
   "cell_type": "code",
   "execution_count": 193,
   "id": "68c6ec00",
   "metadata": {},
   "outputs": [
    {
     "data": {
      "text/html": [
       "<div>\n",
       "<style scoped>\n",
       "    .dataframe tbody tr th:only-of-type {\n",
       "        vertical-align: middle;\n",
       "    }\n",
       "\n",
       "    .dataframe tbody tr th {\n",
       "        vertical-align: top;\n",
       "    }\n",
       "\n",
       "    .dataframe thead th {\n",
       "        text-align: right;\n",
       "    }\n",
       "</style>\n",
       "<table border=\"1\" class=\"dataframe\">\n",
       "  <thead>\n",
       "    <tr style=\"text-align: right;\">\n",
       "      <th></th>\n",
       "      <th>y_test</th>\n",
       "      <th>y_pred</th>\n",
       "    </tr>\n",
       "  </thead>\n",
       "  <tbody>\n",
       "    <tr>\n",
       "      <th>297</th>\n",
       "      <td>20.3</td>\n",
       "      <td>18.813280</td>\n",
       "    </tr>\n",
       "    <tr>\n",
       "      <th>439</th>\n",
       "      <td>12.8</td>\n",
       "      <td>13.279113</td>\n",
       "    </tr>\n",
       "    <tr>\n",
       "      <th>87</th>\n",
       "      <td>22.2</td>\n",
       "      <td>26.582885</td>\n",
       "    </tr>\n",
       "    <tr>\n",
       "      <th>362</th>\n",
       "      <td>20.8</td>\n",
       "      <td>18.533350</td>\n",
       "    </tr>\n",
       "    <tr>\n",
       "      <th>103</th>\n",
       "      <td>19.3</td>\n",
       "      <td>21.328007</td>\n",
       "    </tr>\n",
       "    <tr>\n",
       "      <th>461</th>\n",
       "      <td>17.7</td>\n",
       "      <td>20.356003</td>\n",
       "    </tr>\n",
       "    <tr>\n",
       "      <th>465</th>\n",
       "      <td>19.9</td>\n",
       "      <td>18.228046</td>\n",
       "    </tr>\n",
       "    <tr>\n",
       "      <th>256</th>\n",
       "      <td>44.0</td>\n",
       "      <td>36.575479</td>\n",
       "    </tr>\n",
       "    <tr>\n",
       "      <th>478</th>\n",
       "      <td>14.6</td>\n",
       "      <td>19.641025</td>\n",
       "    </tr>\n",
       "    <tr>\n",
       "      <th>499</th>\n",
       "      <td>17.5</td>\n",
       "      <td>19.254466</td>\n",
       "    </tr>\n",
       "    <tr>\n",
       "      <th>456</th>\n",
       "      <td>12.7</td>\n",
       "      <td>12.098026</td>\n",
       "    </tr>\n",
       "    <tr>\n",
       "      <th>372</th>\n",
       "      <td>50.0</td>\n",
       "      <td>26.398547</td>\n",
       "    </tr>\n",
       "    <tr>\n",
       "      <th>399</th>\n",
       "      <td>6.3</td>\n",
       "      <td>11.136146</td>\n",
       "    </tr>\n",
       "    <tr>\n",
       "      <th>75</th>\n",
       "      <td>21.4</td>\n",
       "      <td>24.457432</td>\n",
       "    </tr>\n",
       "    <tr>\n",
       "      <th>320</th>\n",
       "      <td>23.8</td>\n",
       "      <td>25.150068</td>\n",
       "    </tr>\n",
       "  </tbody>\n",
       "</table>\n",
       "</div>"
      ],
      "text/plain": [
       "     y_test     y_pred\n",
       "297    20.3  18.813280\n",
       "439    12.8  13.279113\n",
       "87     22.2  26.582885\n",
       "362    20.8  18.533350\n",
       "103    19.3  21.328007\n",
       "461    17.7  20.356003\n",
       "465    19.9  18.228046\n",
       "256    44.0  36.575479\n",
       "478    14.6  19.641025\n",
       "499    17.5  19.254466\n",
       "456    12.7  12.098026\n",
       "372    50.0  26.398547\n",
       "399     6.3  11.136146\n",
       "75     21.4  24.457432\n",
       "320    23.8  25.150068"
      ]
     },
     "execution_count": 193,
     "metadata": {},
     "output_type": "execute_result"
    }
   ],
   "source": [
    "check_test = pd.DataFrame({\n",
    "    \"y_test\": y_test[\"price\"],\n",
    "    \"y_pred\": y_pred.flatten(),\n",
    "})\n",
    "\n",
    "check_test.head(15)"
   ]
  },
  {
   "cell_type": "markdown",
   "id": "492b4533",
   "metadata": {},
   "source": [
    "Оценка качества"
   ]
  },
  {
   "cell_type": "code",
   "execution_count": 194,
   "id": "cca670c1",
   "metadata": {},
   "outputs": [
    {
     "data": {
      "text/html": [
       "<div>\n",
       "<style scoped>\n",
       "    .dataframe tbody tr th:only-of-type {\n",
       "        vertical-align: middle;\n",
       "    }\n",
       "\n",
       "    .dataframe tbody tr th {\n",
       "        vertical-align: top;\n",
       "    }\n",
       "\n",
       "    .dataframe thead th {\n",
       "        text-align: right;\n",
       "    }\n",
       "</style>\n",
       "<table border=\"1\" class=\"dataframe\">\n",
       "  <thead>\n",
       "    <tr style=\"text-align: right;\">\n",
       "      <th></th>\n",
       "      <th>y_test</th>\n",
       "      <th>y_pred</th>\n",
       "      <th>error</th>\n",
       "    </tr>\n",
       "  </thead>\n",
       "  <tbody>\n",
       "    <tr>\n",
       "      <th>297</th>\n",
       "      <td>20.3</td>\n",
       "      <td>18.813280</td>\n",
       "      <td>-1.486720</td>\n",
       "    </tr>\n",
       "    <tr>\n",
       "      <th>439</th>\n",
       "      <td>12.8</td>\n",
       "      <td>13.279113</td>\n",
       "      <td>0.479113</td>\n",
       "    </tr>\n",
       "    <tr>\n",
       "      <th>87</th>\n",
       "      <td>22.2</td>\n",
       "      <td>26.582885</td>\n",
       "      <td>4.382885</td>\n",
       "    </tr>\n",
       "    <tr>\n",
       "      <th>362</th>\n",
       "      <td>20.8</td>\n",
       "      <td>18.533350</td>\n",
       "      <td>-2.266650</td>\n",
       "    </tr>\n",
       "    <tr>\n",
       "      <th>103</th>\n",
       "      <td>19.3</td>\n",
       "      <td>21.328007</td>\n",
       "      <td>2.028007</td>\n",
       "    </tr>\n",
       "  </tbody>\n",
       "</table>\n",
       "</div>"
      ],
      "text/plain": [
       "     y_test     y_pred     error\n",
       "297    20.3  18.813280 -1.486720\n",
       "439    12.8  13.279113  0.479113\n",
       "87     22.2  26.582885  4.382885\n",
       "362    20.8  18.533350 -2.266650\n",
       "103    19.3  21.328007  2.028007"
      ]
     },
     "execution_count": 194,
     "metadata": {},
     "output_type": "execute_result"
    }
   ],
   "source": [
    "check_test[\"error\"] = check_test[\"y_pred\"] - check_test[\"y_test\"]\n",
    "check_test.head()"
   ]
  },
  {
   "cell_type": "code",
   "execution_count": 195,
   "id": "66136a54",
   "metadata": {},
   "outputs": [
    {
     "data": {
      "text/plain": [
       "0.6630622313707483"
      ]
     },
     "execution_count": 195,
     "metadata": {},
     "output_type": "execute_result"
    }
   ],
   "source": [
    "from sklearn.metrics import r2_score\n",
    "r2_score_1=r2_score(check_test[\"y_pred\"], check_test[\"y_test\"])\n",
    "r2_score_1"
   ]
  },
  {
   "cell_type": "markdown",
   "id": "962fd634",
   "metadata": {},
   "source": [
    "Средняя квадратическая ошибка"
   ]
  },
  {
   "cell_type": "code",
   "execution_count": 196,
   "id": "e0a27bff",
   "metadata": {},
   "outputs": [
    {
     "data": {
      "text/plain": [
       "23.41584920500716"
      ]
     },
     "execution_count": 196,
     "metadata": {},
     "output_type": "execute_result"
    }
   ],
   "source": [
    "from sklearn.metrics import mean_squared_error\n",
    "mean_squared_error(check_test[\"y_pred\"], check_test[\"y_test\"])"
   ]
  },
  {
   "cell_type": "markdown",
   "id": "8f8c9c90",
   "metadata": {},
   "source": [
    "Средняя абсолютная ошибка"
   ]
  },
  {
   "cell_type": "code",
   "execution_count": 197,
   "id": "0809c9d6",
   "metadata": {},
   "outputs": [
    {
     "data": {
      "text/plain": [
       "3.4812070612498367"
      ]
     },
     "execution_count": 197,
     "metadata": {},
     "output_type": "execute_result"
    }
   ],
   "source": [
    "from sklearn.metrics import mean_absolute_error\n",
    "mean_absolute_error(check_test[\"y_pred\"], check_test[\"y_test\"])"
   ]
  },
  {
   "cell_type": "markdown",
   "id": "a67cfeb4",
   "metadata": {},
   "source": [
    "# Задание 2"
   ]
  },
  {
   "cell_type": "markdown",
   "id": "0560f21e",
   "metadata": {},
   "source": [
    "Создайте модель под названием model с помощью RandomForestRegressor из модуля sklearn.ensemble.\n",
    "Сделайте агрумент n_estimators равным 1000,\n",
    "max_depth должен быть равен 12 и random_state сделайте равным 42.\n",
    "Обучите модель на тренировочных данных аналогично тому, как вы обучали модель LinearRegression,\n",
    "но при этом в метод fit вместо датафрейма y_train поставьте y_train.values[:, 0],\n",
    "чтобы получить из датафрейма одномерный массив Numpy,\n",
    "так как для класса RandomForestRegressor в данном методе для аргумента y предпочтительно применение массивов вместо датафрейма.\n",
    "Сделайте предсказание на тестовых данных и посчитайте R2. Сравните с результатом из предыдущего задания.\n",
    "Напишите в комментариях к коду, какая модель в данном случае работает лучше."
   ]
  },
  {
   "cell_type": "code",
   "execution_count": 198,
   "id": "39bc5c7e",
   "metadata": {},
   "outputs": [],
   "source": [
    "from sklearn.ensemble import RandomForestRegressor\n",
    "model = RandomForestRegressor(n_estimators=1000, max_depth=12, random_state=42)"
   ]
  },
  {
   "cell_type": "code",
   "execution_count": 199,
   "id": "bfb37659",
   "metadata": {},
   "outputs": [
    {
     "data": {
      "text/plain": [
       "RandomForestRegressor(max_depth=12, n_estimators=1000, random_state=42)"
      ]
     },
     "execution_count": 199,
     "metadata": {},
     "output_type": "execute_result"
    }
   ],
   "source": [
    "model.fit(X_train, y_train.values[:, 0])"
   ]
  },
  {
   "cell_type": "code",
   "execution_count": 200,
   "id": "45392c8b",
   "metadata": {},
   "outputs": [
    {
     "data": {
      "text/plain": [
       "(152,)"
      ]
     },
     "execution_count": 200,
     "metadata": {},
     "output_type": "execute_result"
    }
   ],
   "source": [
    "y_pred = model.predict(X_test)\n",
    "y_pred.shape"
   ]
  },
  {
   "cell_type": "code",
   "execution_count": 201,
   "id": "a22595bc",
   "metadata": {},
   "outputs": [
    {
     "data": {
      "text/html": [
       "<div>\n",
       "<style scoped>\n",
       "    .dataframe tbody tr th:only-of-type {\n",
       "        vertical-align: middle;\n",
       "    }\n",
       "\n",
       "    .dataframe tbody tr th {\n",
       "        vertical-align: top;\n",
       "    }\n",
       "\n",
       "    .dataframe thead th {\n",
       "        text-align: right;\n",
       "    }\n",
       "</style>\n",
       "<table border=\"1\" class=\"dataframe\">\n",
       "  <thead>\n",
       "    <tr style=\"text-align: right;\">\n",
       "      <th></th>\n",
       "      <th>y_test</th>\n",
       "      <th>y_pred</th>\n",
       "    </tr>\n",
       "  </thead>\n",
       "  <tbody>\n",
       "    <tr>\n",
       "      <th>297</th>\n",
       "      <td>20.3</td>\n",
       "      <td>20.786494</td>\n",
       "    </tr>\n",
       "    <tr>\n",
       "      <th>439</th>\n",
       "      <td>12.8</td>\n",
       "      <td>11.382234</td>\n",
       "    </tr>\n",
       "    <tr>\n",
       "      <th>87</th>\n",
       "      <td>22.2</td>\n",
       "      <td>21.924072</td>\n",
       "    </tr>\n",
       "    <tr>\n",
       "      <th>362</th>\n",
       "      <td>20.8</td>\n",
       "      <td>20.437834</td>\n",
       "    </tr>\n",
       "    <tr>\n",
       "      <th>103</th>\n",
       "      <td>19.3</td>\n",
       "      <td>20.461334</td>\n",
       "    </tr>\n",
       "    <tr>\n",
       "      <th>461</th>\n",
       "      <td>17.7</td>\n",
       "      <td>18.584756</td>\n",
       "    </tr>\n",
       "    <tr>\n",
       "      <th>465</th>\n",
       "      <td>19.9</td>\n",
       "      <td>20.686016</td>\n",
       "    </tr>\n",
       "    <tr>\n",
       "      <th>256</th>\n",
       "      <td>44.0</td>\n",
       "      <td>40.366295</td>\n",
       "    </tr>\n",
       "    <tr>\n",
       "      <th>478</th>\n",
       "      <td>14.6</td>\n",
       "      <td>14.637963</td>\n",
       "    </tr>\n",
       "    <tr>\n",
       "      <th>499</th>\n",
       "      <td>17.5</td>\n",
       "      <td>19.634025</td>\n",
       "    </tr>\n",
       "    <tr>\n",
       "      <th>456</th>\n",
       "      <td>12.7</td>\n",
       "      <td>15.116151</td>\n",
       "    </tr>\n",
       "    <tr>\n",
       "      <th>372</th>\n",
       "      <td>50.0</td>\n",
       "      <td>37.729775</td>\n",
       "    </tr>\n",
       "    <tr>\n",
       "      <th>399</th>\n",
       "      <td>6.3</td>\n",
       "      <td>10.697123</td>\n",
       "    </tr>\n",
       "    <tr>\n",
       "      <th>75</th>\n",
       "      <td>21.4</td>\n",
       "      <td>23.995931</td>\n",
       "    </tr>\n",
       "    <tr>\n",
       "      <th>320</th>\n",
       "      <td>23.8</td>\n",
       "      <td>23.993135</td>\n",
       "    </tr>\n",
       "  </tbody>\n",
       "</table>\n",
       "</div>"
      ],
      "text/plain": [
       "     y_test     y_pred\n",
       "297    20.3  20.786494\n",
       "439    12.8  11.382234\n",
       "87     22.2  21.924072\n",
       "362    20.8  20.437834\n",
       "103    19.3  20.461334\n",
       "461    17.7  18.584756\n",
       "465    19.9  20.686016\n",
       "256    44.0  40.366295\n",
       "478    14.6  14.637963\n",
       "499    17.5  19.634025\n",
       "456    12.7  15.116151\n",
       "372    50.0  37.729775\n",
       "399     6.3  10.697123\n",
       "75     21.4  23.995931\n",
       "320    23.8  23.993135"
      ]
     },
     "execution_count": 201,
     "metadata": {},
     "output_type": "execute_result"
    }
   ],
   "source": [
    "check_test = pd.DataFrame({\n",
    "    \"y_test\": y_test[\"price\"],\n",
    "    \"y_pred\": y_pred.flatten(),\n",
    "})\n",
    "\n",
    "check_test.head(15)"
   ]
  },
  {
   "cell_type": "code",
   "execution_count": 202,
   "id": "3fc29087",
   "metadata": {},
   "outputs": [
    {
     "data": {
      "text/plain": [
       "0.8726184184371569"
      ]
     },
     "execution_count": 202,
     "metadata": {},
     "output_type": "execute_result"
    }
   ],
   "source": [
    "r2_score_2=r2_score(check_test[\"y_pred\"], check_test[\"y_test\"])\n",
    "r2_score_2"
   ]
  },
  {
   "cell_type": "code",
   "execution_count": 203,
   "id": "8ed168d4",
   "metadata": {},
   "outputs": [
    {
     "data": {
      "text/plain": [
       "True"
      ]
     },
     "execution_count": 203,
     "metadata": {},
     "output_type": "execute_result"
    }
   ],
   "source": [
    "r2_score_1<r2_score_2"
   ]
  },
  {
   "cell_type": "code",
   "execution_count": 204,
   "id": "0caecda4",
   "metadata": {},
   "outputs": [
    {
     "data": {
      "text/plain": [
       "9.342853091344825"
      ]
     },
     "execution_count": 204,
     "metadata": {},
     "output_type": "execute_result"
    }
   ],
   "source": [
    "from sklearn.metrics import mean_squared_error\n",
    "mean_squared_error(check_test[\"y_pred\"], check_test[\"y_test\"])"
   ]
  },
  {
   "cell_type": "code",
   "execution_count": 205,
   "id": "74a10255",
   "metadata": {},
   "outputs": [
    {
     "data": {
      "text/plain": [
       "2.28688544377354"
      ]
     },
     "execution_count": 205,
     "metadata": {},
     "output_type": "execute_result"
    }
   ],
   "source": [
    "from sklearn.metrics import mean_absolute_error\n",
    "mean_absolute_error(check_test[\"y_pred\"], check_test[\"y_test\"])"
   ]
  },
  {
   "cell_type": "markdown",
   "id": "9eb05222",
   "metadata": {},
   "source": [
    "RandomForestRegressor модель сработала лучше это можно определить не только показатель скора, но и более низкие опказатели по ошибкам"
   ]
  },
  {
   "cell_type": "markdown",
   "id": "c6fac5da",
   "metadata": {},
   "source": [
    "# Задание 3"
   ]
  },
  {
   "cell_type": "markdown",
   "id": "6d9a8a0f",
   "metadata": {},
   "source": [
    "Вызовите документацию для класса RandomForestRegressor,\n",
    "найдите информацию об атрибуте feature_importances_.\n",
    "С помощью этого атрибута найдите сумму всех показателей важности,\n",
    "установите, какие два признака показывают наибольшую важность.\n"
   ]
  },
  {
   "cell_type": "code",
   "execution_count": 217,
   "id": "1cc14d60",
   "metadata": {},
   "outputs": [],
   "source": [
    "?RandomForestRegressor"
   ]
  },
  {
   "cell_type": "code",
   "execution_count": 218,
   "id": "2b9cc3f9",
   "metadata": {},
   "outputs": [
    {
     "data": {
      "text/plain": [
       "array([0.04531967, 0.00099474, 0.00712403, 0.00132242, 0.02363412,\n",
       "       0.41217285, 0.0169783 , 0.06064211, 0.00494366, 0.01522417,\n",
       "       0.01861414, 0.01295866, 0.38007111])"
      ]
     },
     "execution_count": 218,
     "metadata": {},
     "output_type": "execute_result"
    }
   ],
   "source": [
    "model.feature_importances_"
   ]
  },
  {
   "cell_type": "code",
   "execution_count": 219,
   "id": "fe7d081c",
   "metadata": {},
   "outputs": [
    {
     "data": {
      "text/plain": [
       "1.0"
      ]
     },
     "execution_count": 219,
     "metadata": {},
     "output_type": "execute_result"
    }
   ],
   "source": [
    "model.feature_importances_.sum()"
   ]
  },
  {
   "cell_type": "code",
   "execution_count": 220,
   "id": "ba3c1443",
   "metadata": {},
   "outputs": [
    {
     "data": {
      "text/html": [
       "<div>\n",
       "<style scoped>\n",
       "    .dataframe tbody tr th:only-of-type {\n",
       "        vertical-align: middle;\n",
       "    }\n",
       "\n",
       "    .dataframe tbody tr th {\n",
       "        vertical-align: top;\n",
       "    }\n",
       "\n",
       "    .dataframe thead th {\n",
       "        text-align: right;\n",
       "    }\n",
       "</style>\n",
       "<table border=\"1\" class=\"dataframe\">\n",
       "  <thead>\n",
       "    <tr style=\"text-align: right;\">\n",
       "      <th></th>\n",
       "      <th>CRIM</th>\n",
       "      <th>ZN</th>\n",
       "      <th>INDUS</th>\n",
       "      <th>CHAS</th>\n",
       "      <th>NOX</th>\n",
       "      <th>RM</th>\n",
       "      <th>AGE</th>\n",
       "      <th>DIS</th>\n",
       "      <th>RAD</th>\n",
       "      <th>TAX</th>\n",
       "      <th>PTRATIO</th>\n",
       "      <th>B</th>\n",
       "      <th>LSTAT</th>\n",
       "    </tr>\n",
       "  </thead>\n",
       "  <tbody>\n",
       "    <tr>\n",
       "      <th>count</th>\n",
       "      <td>354.000000</td>\n",
       "      <td>354.000000</td>\n",
       "      <td>354.000000</td>\n",
       "      <td>354.000000</td>\n",
       "      <td>354.000000</td>\n",
       "      <td>354.000000</td>\n",
       "      <td>354.000000</td>\n",
       "      <td>354.000000</td>\n",
       "      <td>354.000000</td>\n",
       "      <td>354.000000</td>\n",
       "      <td>354.000000</td>\n",
       "      <td>354.000000</td>\n",
       "      <td>354.000000</td>\n",
       "    </tr>\n",
       "    <tr>\n",
       "      <th>mean</th>\n",
       "      <td>3.514182</td>\n",
       "      <td>11.412429</td>\n",
       "      <td>10.931186</td>\n",
       "      <td>0.073446</td>\n",
       "      <td>0.551279</td>\n",
       "      <td>6.281291</td>\n",
       "      <td>67.838418</td>\n",
       "      <td>3.827429</td>\n",
       "      <td>9.251412</td>\n",
       "      <td>404.288136</td>\n",
       "      <td>18.439831</td>\n",
       "      <td>358.584463</td>\n",
       "      <td>12.408559</td>\n",
       "    </tr>\n",
       "    <tr>\n",
       "      <th>std</th>\n",
       "      <td>9.035967</td>\n",
       "      <td>22.812748</td>\n",
       "      <td>6.872053</td>\n",
       "      <td>0.261237</td>\n",
       "      <td>0.112838</td>\n",
       "      <td>0.716781</td>\n",
       "      <td>28.809327</td>\n",
       "      <td>2.093531</td>\n",
       "      <td>8.615590</td>\n",
       "      <td>166.998300</td>\n",
       "      <td>2.173409</td>\n",
       "      <td>88.879409</td>\n",
       "      <td>6.921499</td>\n",
       "    </tr>\n",
       "    <tr>\n",
       "      <th>min</th>\n",
       "      <td>0.006320</td>\n",
       "      <td>0.000000</td>\n",
       "      <td>0.460000</td>\n",
       "      <td>0.000000</td>\n",
       "      <td>0.385000</td>\n",
       "      <td>3.561000</td>\n",
       "      <td>2.900000</td>\n",
       "      <td>1.137000</td>\n",
       "      <td>1.000000</td>\n",
       "      <td>188.000000</td>\n",
       "      <td>12.600000</td>\n",
       "      <td>0.320000</td>\n",
       "      <td>1.920000</td>\n",
       "    </tr>\n",
       "    <tr>\n",
       "      <th>25%</th>\n",
       "      <td>0.082268</td>\n",
       "      <td>0.000000</td>\n",
       "      <td>5.130000</td>\n",
       "      <td>0.000000</td>\n",
       "      <td>0.448250</td>\n",
       "      <td>5.881000</td>\n",
       "      <td>44.575000</td>\n",
       "      <td>2.101725</td>\n",
       "      <td>4.000000</td>\n",
       "      <td>277.500000</td>\n",
       "      <td>17.400000</td>\n",
       "      <td>376.602500</td>\n",
       "      <td>6.757500</td>\n",
       "    </tr>\n",
       "    <tr>\n",
       "      <th>50%</th>\n",
       "      <td>0.251680</td>\n",
       "      <td>0.000000</td>\n",
       "      <td>8.560000</td>\n",
       "      <td>0.000000</td>\n",
       "      <td>0.535000</td>\n",
       "      <td>6.217500</td>\n",
       "      <td>76.250000</td>\n",
       "      <td>3.338900</td>\n",
       "      <td>5.000000</td>\n",
       "      <td>330.000000</td>\n",
       "      <td>18.900000</td>\n",
       "      <td>391.955000</td>\n",
       "      <td>11.330000</td>\n",
       "    </tr>\n",
       "    <tr>\n",
       "      <th>75%</th>\n",
       "      <td>2.897595</td>\n",
       "      <td>19.500000</td>\n",
       "      <td>18.100000</td>\n",
       "      <td>0.000000</td>\n",
       "      <td>0.624000</td>\n",
       "      <td>6.587250</td>\n",
       "      <td>94.375000</td>\n",
       "      <td>5.287300</td>\n",
       "      <td>8.000000</td>\n",
       "      <td>666.000000</td>\n",
       "      <td>20.200000</td>\n",
       "      <td>396.295000</td>\n",
       "      <td>16.275000</td>\n",
       "    </tr>\n",
       "    <tr>\n",
       "      <th>max</th>\n",
       "      <td>88.976200</td>\n",
       "      <td>95.000000</td>\n",
       "      <td>27.740000</td>\n",
       "      <td>1.000000</td>\n",
       "      <td>0.871000</td>\n",
       "      <td>8.780000</td>\n",
       "      <td>100.000000</td>\n",
       "      <td>10.710300</td>\n",
       "      <td>24.000000</td>\n",
       "      <td>711.000000</td>\n",
       "      <td>22.000000</td>\n",
       "      <td>396.900000</td>\n",
       "      <td>37.970000</td>\n",
       "    </tr>\n",
       "  </tbody>\n",
       "</table>\n",
       "</div>"
      ],
      "text/plain": [
       "             CRIM          ZN       INDUS        CHAS         NOX          RM  \\\n",
       "count  354.000000  354.000000  354.000000  354.000000  354.000000  354.000000   \n",
       "mean     3.514182   11.412429   10.931186    0.073446    0.551279    6.281291   \n",
       "std      9.035967   22.812748    6.872053    0.261237    0.112838    0.716781   \n",
       "min      0.006320    0.000000    0.460000    0.000000    0.385000    3.561000   \n",
       "25%      0.082268    0.000000    5.130000    0.000000    0.448250    5.881000   \n",
       "50%      0.251680    0.000000    8.560000    0.000000    0.535000    6.217500   \n",
       "75%      2.897595   19.500000   18.100000    0.000000    0.624000    6.587250   \n",
       "max     88.976200   95.000000   27.740000    1.000000    0.871000    8.780000   \n",
       "\n",
       "              AGE         DIS         RAD         TAX     PTRATIO           B  \\\n",
       "count  354.000000  354.000000  354.000000  354.000000  354.000000  354.000000   \n",
       "mean    67.838418    3.827429    9.251412  404.288136   18.439831  358.584463   \n",
       "std     28.809327    2.093531    8.615590  166.998300    2.173409   88.879409   \n",
       "min      2.900000    1.137000    1.000000  188.000000   12.600000    0.320000   \n",
       "25%     44.575000    2.101725    4.000000  277.500000   17.400000  376.602500   \n",
       "50%     76.250000    3.338900    5.000000  330.000000   18.900000  391.955000   \n",
       "75%     94.375000    5.287300    8.000000  666.000000   20.200000  396.295000   \n",
       "max    100.000000   10.710300   24.000000  711.000000   22.000000  396.900000   \n",
       "\n",
       "            LSTAT  \n",
       "count  354.000000  \n",
       "mean    12.408559  \n",
       "std      6.921499  \n",
       "min      1.920000  \n",
       "25%      6.757500  \n",
       "50%     11.330000  \n",
       "75%     16.275000  \n",
       "max     37.970000  "
      ]
     },
     "execution_count": 220,
     "metadata": {},
     "output_type": "execute_result"
    }
   ],
   "source": [
    "X_train.describe()"
   ]
  },
  {
   "cell_type": "code",
   "execution_count": 223,
   "id": "27bb38d9",
   "metadata": {},
   "outputs": [],
   "source": [
    "from sklearn.preprocessing import StandardScaler\n",
    "scaler = StandardScaler()"
   ]
  },
  {
   "cell_type": "code",
   "execution_count": 229,
   "id": "8b70f4fb",
   "metadata": {},
   "outputs": [],
   "source": [
    "from matplotlib import pyplot as plt"
   ]
  },
  {
   "cell_type": "code",
   "execution_count": 233,
   "id": "092a22a3",
   "metadata": {},
   "outputs": [
    {
     "data": {
      "text/html": [
       "<div>\n",
       "<style scoped>\n",
       "    .dataframe tbody tr th:only-of-type {\n",
       "        vertical-align: middle;\n",
       "    }\n",
       "\n",
       "    .dataframe tbody tr th {\n",
       "        vertical-align: top;\n",
       "    }\n",
       "\n",
       "    .dataframe thead th {\n",
       "        text-align: right;\n",
       "    }\n",
       "</style>\n",
       "<table border=\"1\" class=\"dataframe\">\n",
       "  <thead>\n",
       "    <tr style=\"text-align: right;\">\n",
       "      <th></th>\n",
       "      <th>CRIM</th>\n",
       "      <th>ZN</th>\n",
       "      <th>INDUS</th>\n",
       "      <th>CHAS</th>\n",
       "      <th>NOX</th>\n",
       "      <th>RM</th>\n",
       "      <th>AGE</th>\n",
       "      <th>DIS</th>\n",
       "      <th>RAD</th>\n",
       "      <th>TAX</th>\n",
       "      <th>PTRATIO</th>\n",
       "      <th>B</th>\n",
       "      <th>LSTAT</th>\n",
       "    </tr>\n",
       "  </thead>\n",
       "  <tbody>\n",
       "    <tr>\n",
       "      <th>0</th>\n",
       "      <td>-0.377240</td>\n",
       "      <td>0.596456</td>\n",
       "      <td>-0.845366</td>\n",
       "      <td>-0.281546</td>\n",
       "      <td>-0.872202</td>\n",
       "      <td>0.244086</td>\n",
       "      <td>-0.001335</td>\n",
       "      <td>1.625427</td>\n",
       "      <td>-0.145455</td>\n",
       "      <td>-0.721315</td>\n",
       "      <td>0.580633</td>\n",
       "      <td>0.431706</td>\n",
       "      <td>-0.821585</td>\n",
       "    </tr>\n",
       "    <tr>\n",
       "      <th>1</th>\n",
       "      <td>-0.383941</td>\n",
       "      <td>0.420867</td>\n",
       "      <td>-0.771047</td>\n",
       "      <td>-0.281546</td>\n",
       "      <td>-0.996449</td>\n",
       "      <td>-0.395786</td>\n",
       "      <td>-1.614205</td>\n",
       "      <td>1.428926</td>\n",
       "      <td>-0.610387</td>\n",
       "      <td>-0.967174</td>\n",
       "      <td>-0.755565</td>\n",
       "      <td>0.431706</td>\n",
       "      <td>-0.575625</td>\n",
       "    </tr>\n",
       "    <tr>\n",
       "      <th>2</th>\n",
       "      <td>-0.324068</td>\n",
       "      <td>-0.500974</td>\n",
       "      <td>1.596950</td>\n",
       "      <td>-0.281546</td>\n",
       "      <td>0.645388</td>\n",
       "      <td>0.126730</td>\n",
       "      <td>1.044944</td>\n",
       "      <td>-0.717521</td>\n",
       "      <td>-0.610387</td>\n",
       "      <td>0.196159</td>\n",
       "      <td>1.271770</td>\n",
       "      <td>0.306190</td>\n",
       "      <td>-0.186431</td>\n",
       "    </tr>\n",
       "    <tr>\n",
       "      <th>3</th>\n",
       "      <td>-0.384290</td>\n",
       "      <td>3.010801</td>\n",
       "      <td>-1.371425</td>\n",
       "      <td>-0.281546</td>\n",
       "      <td>-1.307067</td>\n",
       "      <td>1.153599</td>\n",
       "      <td>-1.085851</td>\n",
       "      <td>1.665368</td>\n",
       "      <td>-0.842853</td>\n",
       "      <td>-0.451470</td>\n",
       "      <td>-2.690748</td>\n",
       "      <td>-0.048161</td>\n",
       "      <td>-0.549583</td>\n",
       "    </tr>\n",
       "    <tr>\n",
       "      <th>4</th>\n",
       "      <td>-0.332737</td>\n",
       "      <td>-0.500974</td>\n",
       "      <td>-0.689442</td>\n",
       "      <td>-0.281546</td>\n",
       "      <td>-0.392963</td>\n",
       "      <td>1.504271</td>\n",
       "      <td>0.130753</td>\n",
       "      <td>0.153341</td>\n",
       "      <td>-0.145455</td>\n",
       "      <td>-0.583394</td>\n",
       "      <td>-0.479110</td>\n",
       "      <td>0.354751</td>\n",
       "      <td>-1.110948</td>\n",
       "    </tr>\n",
       "    <tr>\n",
       "      <th>...</th>\n",
       "      <td>...</td>\n",
       "      <td>...</td>\n",
       "      <td>...</td>\n",
       "      <td>...</td>\n",
       "      <td>...</td>\n",
       "      <td>...</td>\n",
       "      <td>...</td>\n",
       "      <td>...</td>\n",
       "      <td>...</td>\n",
       "      <td>...</td>\n",
       "      <td>...</td>\n",
       "      <td>...</td>\n",
       "      <td>...</td>\n",
       "    </tr>\n",
       "    <tr>\n",
       "      <th>349</th>\n",
       "      <td>-0.374989</td>\n",
       "      <td>-0.500974</td>\n",
       "      <td>-0.134238</td>\n",
       "      <td>-0.281546</td>\n",
       "      <td>-0.037971</td>\n",
       "      <td>-0.571821</td>\n",
       "      <td>0.182893</td>\n",
       "      <td>-0.645722</td>\n",
       "      <td>-0.377921</td>\n",
       "      <td>0.166176</td>\n",
       "      <td>-0.294807</td>\n",
       "      <td>-0.224829</td>\n",
       "      <td>0.428467</td>\n",
       "    </tr>\n",
       "    <tr>\n",
       "      <th>350</th>\n",
       "      <td>2.485419</td>\n",
       "      <td>-0.500974</td>\n",
       "      <td>1.044660</td>\n",
       "      <td>-0.281546</td>\n",
       "      <td>1.133502</td>\n",
       "      <td>-1.365374</td>\n",
       "      <td>0.739055</td>\n",
       "      <td>-1.042743</td>\n",
       "      <td>1.714272</td>\n",
       "      <td>1.569371</td>\n",
       "      <td>0.811012</td>\n",
       "      <td>-2.605235</td>\n",
       "      <td>2.059032</td>\n",
       "    </tr>\n",
       "    <tr>\n",
       "      <th>351</th>\n",
       "      <td>-0.365734</td>\n",
       "      <td>0.464765</td>\n",
       "      <td>-0.738988</td>\n",
       "      <td>-0.281546</td>\n",
       "      <td>-1.067448</td>\n",
       "      <td>0.218938</td>\n",
       "      <td>-2.048706</td>\n",
       "      <td>1.707318</td>\n",
       "      <td>-0.261688</td>\n",
       "      <td>-0.445473</td>\n",
       "      <td>0.304178</td>\n",
       "      <td>0.208279</td>\n",
       "      <td>-1.275886</td>\n",
       "    </tr>\n",
       "    <tr>\n",
       "      <th>352</th>\n",
       "      <td>-0.298001</td>\n",
       "      <td>0.376970</td>\n",
       "      <td>-1.014404</td>\n",
       "      <td>-0.281546</td>\n",
       "      <td>0.849509</td>\n",
       "      <td>1.460961</td>\n",
       "      <td>0.926760</td>\n",
       "      <td>-0.836436</td>\n",
       "      <td>-0.494154</td>\n",
       "      <td>-0.841246</td>\n",
       "      <td>-2.506445</td>\n",
       "      <td>0.392496</td>\n",
       "      <td>-0.167623</td>\n",
       "    </tr>\n",
       "    <tr>\n",
       "      <th>353</th>\n",
       "      <td>0.935026</td>\n",
       "      <td>-0.500974</td>\n",
       "      <td>1.044660</td>\n",
       "      <td>-0.281546</td>\n",
       "      <td>0.956006</td>\n",
       "      <td>-0.940655</td>\n",
       "      <td>1.117940</td>\n",
       "      <td>-1.216045</td>\n",
       "      <td>1.714272</td>\n",
       "      <td>1.569371</td>\n",
       "      <td>0.811012</td>\n",
       "      <td>-0.298516</td>\n",
       "      <td>-0.040302</td>\n",
       "    </tr>\n",
       "  </tbody>\n",
       "</table>\n",
       "<p>354 rows × 13 columns</p>\n",
       "</div>"
      ],
      "text/plain": [
       "         CRIM        ZN     INDUS      CHAS       NOX        RM       AGE  \\\n",
       "0   -0.377240  0.596456 -0.845366 -0.281546 -0.872202  0.244086 -0.001335   \n",
       "1   -0.383941  0.420867 -0.771047 -0.281546 -0.996449 -0.395786 -1.614205   \n",
       "2   -0.324068 -0.500974  1.596950 -0.281546  0.645388  0.126730  1.044944   \n",
       "3   -0.384290  3.010801 -1.371425 -0.281546 -1.307067  1.153599 -1.085851   \n",
       "4   -0.332737 -0.500974 -0.689442 -0.281546 -0.392963  1.504271  0.130753   \n",
       "..        ...       ...       ...       ...       ...       ...       ...   \n",
       "349 -0.374989 -0.500974 -0.134238 -0.281546 -0.037971 -0.571821  0.182893   \n",
       "350  2.485419 -0.500974  1.044660 -0.281546  1.133502 -1.365374  0.739055   \n",
       "351 -0.365734  0.464765 -0.738988 -0.281546 -1.067448  0.218938 -2.048706   \n",
       "352 -0.298001  0.376970 -1.014404 -0.281546  0.849509  1.460961  0.926760   \n",
       "353  0.935026 -0.500974  1.044660 -0.281546  0.956006 -0.940655  1.117940   \n",
       "\n",
       "          DIS       RAD       TAX   PTRATIO         B     LSTAT  \n",
       "0    1.625427 -0.145455 -0.721315  0.580633  0.431706 -0.821585  \n",
       "1    1.428926 -0.610387 -0.967174 -0.755565  0.431706 -0.575625  \n",
       "2   -0.717521 -0.610387  0.196159  1.271770  0.306190 -0.186431  \n",
       "3    1.665368 -0.842853 -0.451470 -2.690748 -0.048161 -0.549583  \n",
       "4    0.153341 -0.145455 -0.583394 -0.479110  0.354751 -1.110948  \n",
       "..        ...       ...       ...       ...       ...       ...  \n",
       "349 -0.645722 -0.377921  0.166176 -0.294807 -0.224829  0.428467  \n",
       "350 -1.042743  1.714272  1.569371  0.811012 -2.605235  2.059032  \n",
       "351  1.707318 -0.261688 -0.445473  0.304178  0.208279 -1.275886  \n",
       "352 -0.836436 -0.494154 -0.841246 -2.506445  0.392496 -0.167623  \n",
       "353 -1.216045  1.714272  1.569371  0.811012 -0.298516 -0.040302  \n",
       "\n",
       "[354 rows x 13 columns]"
      ]
     },
     "execution_count": 233,
     "metadata": {},
     "output_type": "execute_result"
    }
   ],
   "source": [
    "X_train_scaled = scaler.fit_transform(X_train)\n",
    "X_train_scaled = pd.DataFrame(X_train_scaled, columns=feature_names)\n",
    "X_train_scaled"
   ]
  },
  {
   "cell_type": "code",
   "execution_count": 235,
   "id": "ae6f928b",
   "metadata": {},
   "outputs": [
    {
     "data": {
      "text/html": [
       "<div>\n",
       "<style scoped>\n",
       "    .dataframe tbody tr th:only-of-type {\n",
       "        vertical-align: middle;\n",
       "    }\n",
       "\n",
       "    .dataframe tbody tr th {\n",
       "        vertical-align: top;\n",
       "    }\n",
       "\n",
       "    .dataframe thead th {\n",
       "        text-align: right;\n",
       "    }\n",
       "</style>\n",
       "<table border=\"1\" class=\"dataframe\">\n",
       "  <thead>\n",
       "    <tr style=\"text-align: right;\">\n",
       "      <th></th>\n",
       "      <th>CRIM</th>\n",
       "      <th>ZN</th>\n",
       "      <th>INDUS</th>\n",
       "      <th>CHAS</th>\n",
       "      <th>NOX</th>\n",
       "      <th>RM</th>\n",
       "      <th>AGE</th>\n",
       "      <th>DIS</th>\n",
       "      <th>RAD</th>\n",
       "      <th>TAX</th>\n",
       "      <th>PTRATIO</th>\n",
       "      <th>B</th>\n",
       "      <th>LSTAT</th>\n",
       "    </tr>\n",
       "  </thead>\n",
       "  <tbody>\n",
       "    <tr>\n",
       "      <th>0</th>\n",
       "      <td>-0.494437</td>\n",
       "      <td>-0.459843</td>\n",
       "      <td>0.338431</td>\n",
       "      <td>-0.250873</td>\n",
       "      <td>-1.027602</td>\n",
       "      <td>-0.751563</td>\n",
       "      <td>-0.464262</td>\n",
       "      <td>1.219794</td>\n",
       "      <td>-0.703260</td>\n",
       "      <td>-0.747989</td>\n",
       "      <td>-1.161975</td>\n",
       "      <td>0.462834</td>\n",
       "      <td>0.344581</td>\n",
       "    </tr>\n",
       "    <tr>\n",
       "      <th>1</th>\n",
       "      <td>0.740316</td>\n",
       "      <td>-0.459843</td>\n",
       "      <td>0.952317</td>\n",
       "      <td>-0.250873</td>\n",
       "      <td>1.450380</td>\n",
       "      <td>-0.995392</td>\n",
       "      <td>0.891867</td>\n",
       "      <td>-0.892391</td>\n",
       "      <td>1.549544</td>\n",
       "      <td>1.447624</td>\n",
       "      <td>0.796327</td>\n",
       "      <td>0.462834</td>\n",
       "      <td>1.271364</td>\n",
       "    </tr>\n",
       "    <tr>\n",
       "      <th>2</th>\n",
       "      <td>-0.503718</td>\n",
       "      <td>-0.459843</td>\n",
       "      <td>-1.046483</td>\n",
       "      <td>-0.250873</td>\n",
       "      <td>-0.929464</td>\n",
       "      <td>-0.256426</td>\n",
       "      <td>-0.509592</td>\n",
       "      <td>0.013126</td>\n",
       "      <td>-0.815901</td>\n",
       "      <td>-0.992593</td>\n",
       "      <td>0.003681</td>\n",
       "      <td>0.444704</td>\n",
       "      <td>-0.629593</td>\n",
       "    </tr>\n",
       "    <tr>\n",
       "      <th>3</th>\n",
       "      <td>-0.022248</td>\n",
       "      <td>-0.459843</td>\n",
       "      <td>0.952317</td>\n",
       "      <td>-0.250873</td>\n",
       "      <td>1.695725</td>\n",
       "      <td>-1.391801</td>\n",
       "      <td>0.978750</td>\n",
       "      <td>-0.758045</td>\n",
       "      <td>1.549544</td>\n",
       "      <td>1.447624</td>\n",
       "      <td>0.796327</td>\n",
       "      <td>0.295935</td>\n",
       "      <td>-0.399214</td>\n",
       "    </tr>\n",
       "    <tr>\n",
       "      <th>4</th>\n",
       "      <td>-0.485016</td>\n",
       "      <td>-0.459843</td>\n",
       "      <td>-0.448752</td>\n",
       "      <td>-0.250873</td>\n",
       "      <td>-0.348815</td>\n",
       "      <td>-0.232492</td>\n",
       "      <td>0.646328</td>\n",
       "      <td>-0.471389</td>\n",
       "      <td>-0.590620</td>\n",
       "      <td>-0.194718</td>\n",
       "      <td>1.122710</td>\n",
       "      <td>0.437659</td>\n",
       "      <td>0.028633</td>\n",
       "    </tr>\n",
       "    <tr>\n",
       "      <th>...</th>\n",
       "      <td>...</td>\n",
       "      <td>...</td>\n",
       "      <td>...</td>\n",
       "      <td>...</td>\n",
       "      <td>...</td>\n",
       "      <td>...</td>\n",
       "      <td>...</td>\n",
       "      <td>...</td>\n",
       "      <td>...</td>\n",
       "      <td>...</td>\n",
       "      <td>...</td>\n",
       "      <td>...</td>\n",
       "      <td>...</td>\n",
       "    </tr>\n",
       "    <tr>\n",
       "      <th>147</th>\n",
       "      <td>-0.504288</td>\n",
       "      <td>-0.459843</td>\n",
       "      <td>-1.230062</td>\n",
       "      <td>-0.250873</td>\n",
       "      <td>-0.839504</td>\n",
       "      <td>0.060701</td>\n",
       "      <td>-2.005490</td>\n",
       "      <td>0.701270</td>\n",
       "      <td>-0.703260</td>\n",
       "      <td>0.073182</td>\n",
       "      <td>-0.742339</td>\n",
       "      <td>0.238127</td>\n",
       "      <td>-0.774403</td>\n",
       "    </tr>\n",
       "    <tr>\n",
       "      <th>148</th>\n",
       "      <td>0.640748</td>\n",
       "      <td>-0.459843</td>\n",
       "      <td>0.952317</td>\n",
       "      <td>-0.250873</td>\n",
       "      <td>1.066007</td>\n",
       "      <td>-0.148722</td>\n",
       "      <td>0.842759</td>\n",
       "      <td>-0.904587</td>\n",
       "      <td>1.549544</td>\n",
       "      <td>1.447624</td>\n",
       "      <td>0.796327</td>\n",
       "      <td>0.462834</td>\n",
       "      <td>0.256379</td>\n",
       "    </tr>\n",
       "    <tr>\n",
       "      <th>149</th>\n",
       "      <td>-0.498634</td>\n",
       "      <td>-0.459843</td>\n",
       "      <td>0.046175</td>\n",
       "      <td>-0.250873</td>\n",
       "      <td>0.084628</td>\n",
       "      <td>0.750303</td>\n",
       "      <td>0.718101</td>\n",
       "      <td>-0.624216</td>\n",
       "      <td>-1.041181</td>\n",
       "      <td>-0.841172</td>\n",
       "      <td>1.169337</td>\n",
       "      <td>0.427092</td>\n",
       "      <td>-0.887618</td>\n",
       "    </tr>\n",
       "    <tr>\n",
       "      <th>150</th>\n",
       "      <td>-0.507910</td>\n",
       "      <td>2.810152</td>\n",
       "      <td>-1.482666</td>\n",
       "      <td>-0.250873</td>\n",
       "      <td>-1.297481</td>\n",
       "      <td>1.487774</td>\n",
       "      <td>-1.367089</td>\n",
       "      <td>1.683717</td>\n",
       "      <td>-0.928541</td>\n",
       "      <td>-0.515033</td>\n",
       "      <td>-2.747266</td>\n",
       "      <td>0.462834</td>\n",
       "      <td>-1.203567</td>\n",
       "    </tr>\n",
       "    <tr>\n",
       "      <th>151</th>\n",
       "      <td>-0.244918</td>\n",
       "      <td>-0.459843</td>\n",
       "      <td>1.169674</td>\n",
       "      <td>-0.250873</td>\n",
       "      <td>0.346329</td>\n",
       "      <td>2.448131</td>\n",
       "      <td>0.978750</td>\n",
       "      <td>-0.785111</td>\n",
       "      <td>-0.590620</td>\n",
       "      <td>-0.084064</td>\n",
       "      <td>-1.768115</td>\n",
       "      <td>0.176899</td>\n",
       "      <td>-1.253592</td>\n",
       "    </tr>\n",
       "  </tbody>\n",
       "</table>\n",
       "<p>152 rows × 13 columns</p>\n",
       "</div>"
      ],
      "text/plain": [
       "         CRIM        ZN     INDUS      CHAS       NOX        RM       AGE  \\\n",
       "0   -0.494437 -0.459843  0.338431 -0.250873 -1.027602 -0.751563 -0.464262   \n",
       "1    0.740316 -0.459843  0.952317 -0.250873  1.450380 -0.995392  0.891867   \n",
       "2   -0.503718 -0.459843 -1.046483 -0.250873 -0.929464 -0.256426 -0.509592   \n",
       "3   -0.022248 -0.459843  0.952317 -0.250873  1.695725 -1.391801  0.978750   \n",
       "4   -0.485016 -0.459843 -0.448752 -0.250873 -0.348815 -0.232492  0.646328   \n",
       "..        ...       ...       ...       ...       ...       ...       ...   \n",
       "147 -0.504288 -0.459843 -1.230062 -0.250873 -0.839504  0.060701 -2.005490   \n",
       "148  0.640748 -0.459843  0.952317 -0.250873  1.066007 -0.148722  0.842759   \n",
       "149 -0.498634 -0.459843  0.046175 -0.250873  0.084628  0.750303  0.718101   \n",
       "150 -0.507910  2.810152 -1.482666 -0.250873 -1.297481  1.487774 -1.367089   \n",
       "151 -0.244918 -0.459843  1.169674 -0.250873  0.346329  2.448131  0.978750   \n",
       "\n",
       "          DIS       RAD       TAX   PTRATIO         B     LSTAT  \n",
       "0    1.219794 -0.703260 -0.747989 -1.161975  0.462834  0.344581  \n",
       "1   -0.892391  1.549544  1.447624  0.796327  0.462834  1.271364  \n",
       "2    0.013126 -0.815901 -0.992593  0.003681  0.444704 -0.629593  \n",
       "3   -0.758045  1.549544  1.447624  0.796327  0.295935 -0.399214  \n",
       "4   -0.471389 -0.590620 -0.194718  1.122710  0.437659  0.028633  \n",
       "..        ...       ...       ...       ...       ...       ...  \n",
       "147  0.701270 -0.703260  0.073182 -0.742339  0.238127 -0.774403  \n",
       "148 -0.904587  1.549544  1.447624  0.796327  0.462834  0.256379  \n",
       "149 -0.624216 -1.041181 -0.841172  1.169337  0.427092 -0.887618  \n",
       "150  1.683717 -0.928541 -0.515033 -2.747266  0.462834 -1.203567  \n",
       "151 -0.785111 -0.590620 -0.084064 -1.768115  0.176899 -1.253592  \n",
       "\n",
       "[152 rows x 13 columns]"
      ]
     },
     "execution_count": 235,
     "metadata": {},
     "output_type": "execute_result"
    }
   ],
   "source": [
    "X_test_scaled = scaler.fit_transform(X_test)\n",
    "X_test_scaled = pd.DataFrame(X_test_scaled, columns=feature_names)\n",
    "X_test_scaled"
   ]
  },
  {
   "cell_type": "code",
   "execution_count": 231,
   "id": "94f017c5",
   "metadata": {},
   "outputs": [
    {
     "data": {
      "image/png": "[encoded data removed]",
      "text/plain": [
       "<Figure size 432x288 with 1 Axes>"
      ]
     },
     "metadata": {
      "needs_background": "light"
     },
     "output_type": "display_data"
    }
   ],
   "source": [
    "lr.fit(X_train_scaled, y_train)\n",
    "\n",
    "plt.barh(feature_names, lr.coef_.flatten())\n",
    "plt.xlabel(\"Вес признака\")\n",
    "plt.ylabel(\"Признак\")\n",
    "\n",
    "plt.show()"
   ]
  },
  {
   "cell_type": "markdown",
   "id": "c7615c62",
   "metadata": {},
   "source": []
  }
 ],
 "metadata": {
  "kernelspec": {
   "display_name": "Python 3 (ipykernel)",
   "language": "python",
   "name": "python3"
  },
  "language_info": {
   "codemirror_mode": {
    "name": "ipython",
    "version": 3
   },
   "file_extension": ".py",
   "mimetype": "text/x-python",
   "name": "python",
   "nbconvert_exporter": "python",
   "pygments_lexer": "ipython3",
   "version": "3.9.12"
  }
 },
 "nbformat": 4,
 "nbformat_minor": 5
}
